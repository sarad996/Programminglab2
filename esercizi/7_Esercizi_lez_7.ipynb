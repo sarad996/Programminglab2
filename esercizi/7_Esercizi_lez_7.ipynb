{
 "cells": [
  {
   "cell_type": "code",
   "execution_count": 1,
   "id": "a0cebda6",
   "metadata": {},
   "outputs": [],
   "source": [
    "import pandas as pd\n",
    "import numpy as np\n",
    "from sklearn.metrics import root_mean_squared_error\n",
    "import plotly.graph_objects as go"
   ]
  },
  {
   "cell_type": "markdown",
   "id": "25c2e0fa",
   "metadata": {},
   "source": [
    "### Es 1\n",
    "Hai a disposizione un file `data.csv` contenente dati mensili di passeggeri con due colonne:\n",
    "\n",
    "- `date`: data in formato `YYYY-MM` (mese/anno)\n",
    "- `passengers`: numero di passeggeri per quel mese\n",
    "\n",
    "\n",
    "Costruisci un modello di **regressione polinomiale** che approssima l’andamento del numero di passeggeri nel tempo.\n",
    "\n",
    "1. Carica il dataset.\n",
    "2. Convertilo in un formato numerico utilizzando una colonna `mese_numerico` che conti i mesi a partire da gennaio 1949.\n",
    "3. Applica una regressione polinomiale (grado a tua scelta).\n",
    "4. Calcola l’RMSE tra i valori reali e quelli predetti.\n",
    "5. Visualizza i dati reali e la curva stimata con Plotly."
   ]
  },
  {
   "cell_type": "code",
   "execution_count": 2,
   "id": "e05dd39e",
   "metadata": {},
   "outputs": [
    {
     "name": "stdout",
     "output_type": "stream",
     "text": [
      "RMSE = 44.45\n"
     ]
    },
    {
     "data": {
      "application/vnd.plotly.v1+json": {
       "config": {
        "plotlyServerURL": "https://plot.ly"
       },
       "data": [
        {
         "marker": {
          "color": "green"
         },
         "mode": "markers",
         "name": "Dati reali",
         "type": "scatter",
         "x": [
          "1949-01-01T00:00:00.000000000",
          "1949-02-01T00:00:00.000000000",
          "1949-03-01T00:00:00.000000000",
          "1949-04-01T00:00:00.000000000",
          "1949-05-01T00:00:00.000000000",
          "1949-06-01T00:00:00.000000000",
          "1949-07-01T00:00:00.000000000",
          "1949-08-01T00:00:00.000000000",
          "1949-09-01T00:00:00.000000000",
          "1949-10-01T00:00:00.000000000",
          "1949-11-01T00:00:00.000000000",
          "1949-12-01T00:00:00.000000000",
          "1950-01-01T00:00:00.000000000",
          "1950-02-01T00:00:00.000000000",
          "1950-03-01T00:00:00.000000000",
          "1950-04-01T00:00:00.000000000",
          "1950-05-01T00:00:00.000000000",
          "1950-06-01T00:00:00.000000000",
          "1950-07-01T00:00:00.000000000",
          "1950-08-01T00:00:00.000000000",
          "1950-09-01T00:00:00.000000000",
          "1950-10-01T00:00:00.000000000",
          "1950-11-01T00:00:00.000000000",
          "1950-12-01T00:00:00.000000000",
          "1951-01-01T00:00:00.000000000",
          "1951-02-01T00:00:00.000000000",
          "1951-03-01T00:00:00.000000000",
          "1951-04-01T00:00:00.000000000",
          "1951-05-01T00:00:00.000000000",
          "1951-06-01T00:00:00.000000000",
          "1951-07-01T00:00:00.000000000",
          "1951-08-01T00:00:00.000000000",
          "1951-09-01T00:00:00.000000000",
          "1951-10-01T00:00:00.000000000",
          "1951-11-01T00:00:00.000000000",
          "1951-12-01T00:00:00.000000000",
          "1952-01-01T00:00:00.000000000",
          "1952-02-01T00:00:00.000000000",
          "1952-03-01T00:00:00.000000000",
          "1952-04-01T00:00:00.000000000",
          "1952-05-01T00:00:00.000000000",
          "1952-06-01T00:00:00.000000000",
          "1952-07-01T00:00:00.000000000",
          "1952-08-01T00:00:00.000000000",
          "1952-09-01T00:00:00.000000000",
          "1952-10-01T00:00:00.000000000",
          "1952-11-01T00:00:00.000000000",
          "1952-12-01T00:00:00.000000000",
          "1953-01-01T00:00:00.000000000",
          "1953-02-01T00:00:00.000000000",
          "1953-03-01T00:00:00.000000000",
          "1953-04-01T00:00:00.000000000",
          "1953-05-01T00:00:00.000000000",
          "1953-06-01T00:00:00.000000000",
          "1953-07-01T00:00:00.000000000",
          "1953-08-01T00:00:00.000000000",
          "1953-09-01T00:00:00.000000000",
          "1953-10-01T00:00:00.000000000",
          "1953-11-01T00:00:00.000000000",
          "1953-12-01T00:00:00.000000000",
          "1955-01-01T00:00:00.000000000",
          "1955-02-01T00:00:00.000000000",
          "1955-03-01T00:00:00.000000000",
          "1955-04-01T00:00:00.000000000",
          "1955-05-01T00:00:00.000000000",
          "1955-06-01T00:00:00.000000000",
          "1955-07-01T00:00:00.000000000",
          "1955-08-01T00:00:00.000000000",
          "1955-09-01T00:00:00.000000000",
          "1955-10-01T00:00:00.000000000",
          "1955-11-01T00:00:00.000000000",
          "1955-12-01T00:00:00.000000000",
          "1956-01-01T00:00:00.000000000",
          "1956-02-01T00:00:00.000000000",
          "1956-03-01T00:00:00.000000000",
          "1956-04-01T00:00:00.000000000",
          "1956-05-01T00:00:00.000000000",
          "1956-06-01T00:00:00.000000000",
          "1956-07-01T00:00:00.000000000",
          "1956-08-01T00:00:00.000000000",
          "1956-09-01T00:00:00.000000000",
          "1956-10-01T00:00:00.000000000",
          "1956-11-01T00:00:00.000000000",
          "1956-12-01T00:00:00.000000000",
          "1957-01-01T00:00:00.000000000",
          "1957-02-01T00:00:00.000000000",
          "1957-03-01T00:00:00.000000000",
          "1957-04-01T00:00:00.000000000",
          "1957-05-01T00:00:00.000000000",
          "1957-06-01T00:00:00.000000000",
          "1957-07-01T00:00:00.000000000",
          "1957-08-01T00:00:00.000000000",
          "1957-09-01T00:00:00.000000000",
          "1957-10-01T00:00:00.000000000",
          "1957-11-01T00:00:00.000000000",
          "1957-12-01T00:00:00.000000000",
          "1958-01-01T00:00:00.000000000",
          "1958-02-01T00:00:00.000000000",
          "1958-03-01T00:00:00.000000000",
          "1958-04-01T00:00:00.000000000",
          "1958-05-01T00:00:00.000000000",
          "1958-06-01T00:00:00.000000000",
          "1958-07-01T00:00:00.000000000",
          "1958-08-01T00:00:00.000000000",
          "1958-09-01T00:00:00.000000000",
          "1958-10-01T00:00:00.000000000",
          "1958-11-01T00:00:00.000000000",
          "1958-12-01T00:00:00.000000000",
          "1959-01-01T00:00:00.000000000",
          "1959-02-01T00:00:00.000000000",
          "1959-03-01T00:00:00.000000000",
          "1959-04-01T00:00:00.000000000",
          "1959-05-01T00:00:00.000000000",
          "1959-06-01T00:00:00.000000000",
          "1959-07-01T00:00:00.000000000",
          "1959-08-01T00:00:00.000000000",
          "1959-09-01T00:00:00.000000000",
          "1959-10-01T00:00:00.000000000",
          "1959-11-01T00:00:00.000000000",
          "1959-12-01T00:00:00.000000000",
          "1960-01-01T00:00:00.000000000",
          "1960-02-01T00:00:00.000000000",
          "1960-03-01T00:00:00.000000000",
          "1960-04-01T00:00:00.000000000",
          "1960-05-01T00:00:00.000000000",
          "1960-06-01T00:00:00.000000000",
          "1960-07-01T00:00:00.000000000",
          "1960-08-01T00:00:00.000000000",
          "1960-09-01T00:00:00.000000000",
          "1960-10-01T00:00:00.000000000",
          "1960-12-01T00:00:00.000000000"
         ],
         "y": {
          "bdata": "AAAAAAAAXEAAAAAAAIBdQAAAAAAAgGBAAAAAAAAgYEAAAAAAAEBeQAAAAAAA4GBAAAAAAACAYkAAAAAAAIBiQAAAAAAAAGFAAAAAAADAXUAAAAAAAABaQAAAAAAAgF1AAAAAAADAXEAAAAAAAIBfQAAAAAAAoGFAAAAAAADgYEAAAAAAAEBfQAAAAAAAoGJAAAAAAABAZUAAAAAAAEBlQAAAAAAAwGNAAAAAAACgYEAAAAAAAIBcQAAAAAAAgGFAAAAAAAAgYkAAAAAAAMBiQAAAAAAAQGZAAAAAAABgZEAAAAAAAIBlQAAAAAAAQGZAAAAAAADgaEAAAAAAAOBoQAAAAAAAAGdAAAAAAABAZEAAAAAAAEBiQAAAAAAAwGRAAAAAAABgZUAAAAAAAIBmQAAAAAAAIGhAAAAAAACgZkAAAAAAAOBmQAAAAAAAQGtAAAAAAADAbEAAAAAAAEBuQAAAAAAAIGpAAAAAAADgZ0AAAAAAAIBlQAAAAAAAQGhAAAAAAACAaEAAAAAAAIBoQAAAAAAAgG1AAAAAAABgbUAAAAAAAKBsQAAAAAAAYG5AAAAAAACAcEAAAAAAAABxQAAAAAAAoG1AAAAAAABgakAAAAAAAIBmQAAAAAAAIGlAAAAAAABAbkAAAAAAACBtQAAAAAAAsHBAAAAAAADQcEAAAAAAAOBwQAAAAAAAsHNAAAAAAADAdkAAAAAAALB1QAAAAAAAgHNAAAAAAAAgcUAAAAAAAKBtQAAAAAAAYHFAAAAAAADAcUAAAAAAAFBxQAAAAAAA0HNAAAAAAACQc0AAAAAAAOBzQAAAAAAAYHdAAAAAAADQeUAAAAAAAFB5QAAAAAAAMHZAAAAAAAAgc0AAAAAAAPBwQAAAAAAAIHNAAAAAAACwc0AAAAAAANByQAAAAAAAQHZAAAAAAADAdUAAAAAAADB2QAAAAAAAYHpAAAAAAAAQfUAAAAAAADB9QAAAAAAAQHlAAAAAAACwdUAAAAAAABBzQAAAAAAAAHVAAAAAAABAdUAAAAAAAOBzQAAAAAAAoHZAAAAAAADAdUAAAAAAALB2QAAAAAAAMHtAAAAAAACwfkAAAAAAAJB/QAAAAAAAQHlAAAAAAABwdkAAAAAAAGBzQAAAAAAAEHVAAAAAAACAdkAAAAAAAGB1QAAAAAAAYHlAAAAAAADAeEAAAAAAAEB6QAAAAAAAgH1AAAAAAAAggUAAAAAAAHiBQAAAAAAA8HxAAAAAAABweUAAAAAAAKB2QAAAAAAAUHlAAAAAAAAQekAAAAAAAHB4QAAAAAAAMHpAAAAAAADQfEAAAAAAAIB9QAAAAAAAuIBAAAAAAABwg0AAAAAAAPCCQAAAAAAAwH9AAAAAAADQfEAAAAAAAAB7QA==",
          "dtype": "f8"
         }
        },
        {
         "line": {
          "color": "blue"
         },
         "mode": "lines",
         "name": "Fit polinomiale",
         "type": "scatter",
         "x": [
          "1949-01-01T00:00:00.000000000",
          "1949-02-01T00:00:00.000000000",
          "1949-03-01T00:00:00.000000000",
          "1949-04-01T00:00:00.000000000",
          "1949-05-01T00:00:00.000000000",
          "1949-06-01T00:00:00.000000000",
          "1949-07-01T00:00:00.000000000",
          "1949-08-01T00:00:00.000000000",
          "1949-09-01T00:00:00.000000000",
          "1949-10-01T00:00:00.000000000",
          "1949-11-01T00:00:00.000000000",
          "1949-12-01T00:00:00.000000000",
          "1950-01-01T00:00:00.000000000",
          "1950-02-01T00:00:00.000000000",
          "1950-03-01T00:00:00.000000000",
          "1950-04-01T00:00:00.000000000",
          "1950-05-01T00:00:00.000000000",
          "1950-06-01T00:00:00.000000000",
          "1950-07-01T00:00:00.000000000",
          "1950-08-01T00:00:00.000000000",
          "1950-09-01T00:00:00.000000000",
          "1950-10-01T00:00:00.000000000",
          "1950-11-01T00:00:00.000000000",
          "1950-12-01T00:00:00.000000000",
          "1951-01-01T00:00:00.000000000",
          "1951-02-01T00:00:00.000000000",
          "1951-03-01T00:00:00.000000000",
          "1951-04-01T00:00:00.000000000",
          "1951-05-01T00:00:00.000000000",
          "1951-06-01T00:00:00.000000000",
          "1951-07-01T00:00:00.000000000",
          "1951-08-01T00:00:00.000000000",
          "1951-09-01T00:00:00.000000000",
          "1951-10-01T00:00:00.000000000",
          "1951-11-01T00:00:00.000000000",
          "1951-12-01T00:00:00.000000000",
          "1952-01-01T00:00:00.000000000",
          "1952-02-01T00:00:00.000000000",
          "1952-03-01T00:00:00.000000000",
          "1952-04-01T00:00:00.000000000",
          "1952-05-01T00:00:00.000000000",
          "1952-06-01T00:00:00.000000000",
          "1952-07-01T00:00:00.000000000",
          "1952-08-01T00:00:00.000000000",
          "1952-09-01T00:00:00.000000000",
          "1952-10-01T00:00:00.000000000",
          "1952-11-01T00:00:00.000000000",
          "1952-12-01T00:00:00.000000000",
          "1953-01-01T00:00:00.000000000",
          "1953-02-01T00:00:00.000000000",
          "1953-03-01T00:00:00.000000000",
          "1953-04-01T00:00:00.000000000",
          "1953-05-01T00:00:00.000000000",
          "1953-06-01T00:00:00.000000000",
          "1953-07-01T00:00:00.000000000",
          "1953-08-01T00:00:00.000000000",
          "1953-09-01T00:00:00.000000000",
          "1953-10-01T00:00:00.000000000",
          "1953-11-01T00:00:00.000000000",
          "1953-12-01T00:00:00.000000000",
          "1955-01-01T00:00:00.000000000",
          "1955-02-01T00:00:00.000000000",
          "1955-03-01T00:00:00.000000000",
          "1955-04-01T00:00:00.000000000",
          "1955-05-01T00:00:00.000000000",
          "1955-06-01T00:00:00.000000000",
          "1955-07-01T00:00:00.000000000",
          "1955-08-01T00:00:00.000000000",
          "1955-09-01T00:00:00.000000000",
          "1955-10-01T00:00:00.000000000",
          "1955-11-01T00:00:00.000000000",
          "1955-12-01T00:00:00.000000000",
          "1956-01-01T00:00:00.000000000",
          "1956-02-01T00:00:00.000000000",
          "1956-03-01T00:00:00.000000000",
          "1956-04-01T00:00:00.000000000",
          "1956-05-01T00:00:00.000000000",
          "1956-06-01T00:00:00.000000000",
          "1956-07-01T00:00:00.000000000",
          "1956-08-01T00:00:00.000000000",
          "1956-09-01T00:00:00.000000000",
          "1956-10-01T00:00:00.000000000",
          "1956-11-01T00:00:00.000000000",
          "1956-12-01T00:00:00.000000000",
          "1957-01-01T00:00:00.000000000",
          "1957-02-01T00:00:00.000000000",
          "1957-03-01T00:00:00.000000000",
          "1957-04-01T00:00:00.000000000",
          "1957-05-01T00:00:00.000000000",
          "1957-06-01T00:00:00.000000000",
          "1957-07-01T00:00:00.000000000",
          "1957-08-01T00:00:00.000000000",
          "1957-09-01T00:00:00.000000000",
          "1957-10-01T00:00:00.000000000",
          "1957-11-01T00:00:00.000000000",
          "1957-12-01T00:00:00.000000000",
          "1958-01-01T00:00:00.000000000",
          "1958-02-01T00:00:00.000000000",
          "1958-03-01T00:00:00.000000000",
          "1958-04-01T00:00:00.000000000",
          "1958-05-01T00:00:00.000000000",
          "1958-06-01T00:00:00.000000000",
          "1958-07-01T00:00:00.000000000",
          "1958-08-01T00:00:00.000000000",
          "1958-09-01T00:00:00.000000000",
          "1958-10-01T00:00:00.000000000",
          "1958-11-01T00:00:00.000000000",
          "1958-12-01T00:00:00.000000000",
          "1959-01-01T00:00:00.000000000",
          "1959-02-01T00:00:00.000000000",
          "1959-03-01T00:00:00.000000000",
          "1959-04-01T00:00:00.000000000",
          "1959-05-01T00:00:00.000000000",
          "1959-06-01T00:00:00.000000000",
          "1959-07-01T00:00:00.000000000",
          "1959-08-01T00:00:00.000000000",
          "1959-09-01T00:00:00.000000000",
          "1959-10-01T00:00:00.000000000",
          "1959-11-01T00:00:00.000000000",
          "1959-12-01T00:00:00.000000000",
          "1960-01-01T00:00:00.000000000",
          "1960-02-01T00:00:00.000000000",
          "1960-03-01T00:00:00.000000000",
          "1960-04-01T00:00:00.000000000",
          "1960-05-01T00:00:00.000000000",
          "1960-06-01T00:00:00.000000000",
          "1960-07-01T00:00:00.000000000",
          "1960-08-01T00:00:00.000000000",
          "1960-09-01T00:00:00.000000000",
          "1960-10-01T00:00:00.000000000",
          "1960-12-01T00:00:00.000000000"
         ],
         "y": {
          "bdata": "+DncBj2jXEBFm+UYXw5dQFIgRdxpel1AIMn6UF3nXUCulQZ3OVVeQP2FaE7+w15ADJog16szX0Db0S4RQqRfQLaWSX7gCmBAXtamTBREYEDmJ69zvH1gQE6LYvPYt2BAlwDBy2nyYEDAh8r8bi1hQMkgf4boaGFAssveaNakYUB8iOmjOOFhQCZXnzcPHmJAsDcAJFpbYkAaKgxpGZliQGQuwwZN12JAjkQl/fQVY0CZbDJMEVVjQISm6vOhlGNAT/JN9KbUY0D7T1xNIBVkQIa/Ff8NVmRA8kB6CXCXZEA+1IlsRtlkQGp5RCiRG2VAdjCqPFBeZUBj+bqpg6FlQDDUdm8r5WVA3MDdjUcpZkBqv+8E2G1mQNfPrNTcsmZAJPIU/VX4ZkBSJih+Qz5nQGBs5lelhGdATsRPinvLZ0AcLmQVxhJoQMupI/mEWmhAWjeONbiiaEDJ1qPKX+toQBiIZLh7NGlASEvQ/gt+aUBWIOedEMhpQEcHqZWJEmpAFgAW5nZdakDGCi6P2KhqQFcn8ZCu9GpAyFVf6/hAa0AYlniet41rQEnoPKrq2mtAWkysDpIobEBMwsbLrXZsQB5KjOE9xWxAz+P8T0IUbUBgjxgXu2NtQNRM3zaos21AKCNjLAf2cEAE//MoLCFxQM5j2lGLTHFAiFEWpyR4cUAzyKco+KNxQM7HjtYF0HFAWVDLsE38cUDUYV23zyhyQED8ROqLVXJAmh+CSYKCckDmyxTVsq9yQCIB/Ywd3XJATr86ccIKc0BpBs6BoThzQHTWtr66ZnNAcC/1Jw6Vc0BdEYm9m8NzQDl8cn9j8nNABHCxbWUhdEDC7EWIoVB0QG7yL88XgHRACoFvQsivdECWmATist90QBM5763XD3VAgGIvpjZAdUDeFMXKz3B1QCpQsBujoXVAZxTxmLDSdUCUYYdC+AN2QLI3cxh6NXZAwJa0GjZndkC8fktJLJl2QKrvN6Rcy3ZAiOl5K8f9dkBWbBHfazB3QBR4/r5KY3dAwgxBy2OWd0BgKtkDt8l3QO7QxmhE/XdAbQAK+gsxeEDbuKK3DWV4QDn6kKFJmXhAiMTUt7/NeEDGF276bwJ5QPbzXGlaN3lAFFmhBH9seUAjRzvM3aF5QCK+KsB213lAEr5v4EkNekDxRgotV0N6QMBY+qWeeXpAgPM/SyCwekAvF9sc3OZ6QNDDyxrSHXtAX/kRRQJVe0Det62bbIx7QE//nh4RxHtAsM/lze/7e0D/KIKpCDR8QD8LdLFbbHxAcHa75eikfECQalhGsN18QKLnStOxFn1Aou2SjO1PfUCSfDByY4l9QHSUI4QTw31ARTVswv38fUAGXwotIjd+QLcR/sOAcX5AWE1HhxmsfkBsX9qS+SF/QA==",
          "dtype": "f8"
         }
        }
       ],
       "layout": {
        "template": {
         "data": {
          "bar": [
           {
            "error_x": {
             "color": "rgb(51,51,51)"
            },
            "error_y": {
             "color": "rgb(51,51,51)"
            },
            "marker": {
             "line": {
              "color": "rgb(237,237,237)",
              "width": 0.5
             },
             "pattern": {
              "fillmode": "overlay",
              "size": 10,
              "solidity": 0.2
             }
            },
            "type": "bar"
           }
          ],
          "barpolar": [
           {
            "marker": {
             "line": {
              "color": "rgb(237,237,237)",
              "width": 0.5
             },
             "pattern": {
              "fillmode": "overlay",
              "size": 10,
              "solidity": 0.2
             }
            },
            "type": "barpolar"
           }
          ],
          "carpet": [
           {
            "aaxis": {
             "endlinecolor": "rgb(51,51,51)",
             "gridcolor": "white",
             "linecolor": "white",
             "minorgridcolor": "white",
             "startlinecolor": "rgb(51,51,51)"
            },
            "baxis": {
             "endlinecolor": "rgb(51,51,51)",
             "gridcolor": "white",
             "linecolor": "white",
             "minorgridcolor": "white",
             "startlinecolor": "rgb(51,51,51)"
            },
            "type": "carpet"
           }
          ],
          "choropleth": [
           {
            "colorbar": {
             "outlinewidth": 0,
             "tickcolor": "rgb(237,237,237)",
             "ticklen": 6,
             "ticks": "inside"
            },
            "type": "choropleth"
           }
          ],
          "contour": [
           {
            "colorbar": {
             "outlinewidth": 0,
             "tickcolor": "rgb(237,237,237)",
             "ticklen": 6,
             "ticks": "inside"
            },
            "colorscale": [
             [
              0,
              "rgb(20,44,66)"
             ],
             [
              1,
              "rgb(90,179,244)"
             ]
            ],
            "type": "contour"
           }
          ],
          "contourcarpet": [
           {
            "colorbar": {
             "outlinewidth": 0,
             "tickcolor": "rgb(237,237,237)",
             "ticklen": 6,
             "ticks": "inside"
            },
            "type": "contourcarpet"
           }
          ],
          "heatmap": [
           {
            "colorbar": {
             "outlinewidth": 0,
             "tickcolor": "rgb(237,237,237)",
             "ticklen": 6,
             "ticks": "inside"
            },
            "colorscale": [
             [
              0,
              "rgb(20,44,66)"
             ],
             [
              1,
              "rgb(90,179,244)"
             ]
            ],
            "type": "heatmap"
           }
          ],
          "histogram": [
           {
            "marker": {
             "pattern": {
              "fillmode": "overlay",
              "size": 10,
              "solidity": 0.2
             }
            },
            "type": "histogram"
           }
          ],
          "histogram2d": [
           {
            "colorbar": {
             "outlinewidth": 0,
             "tickcolor": "rgb(237,237,237)",
             "ticklen": 6,
             "ticks": "inside"
            },
            "colorscale": [
             [
              0,
              "rgb(20,44,66)"
             ],
             [
              1,
              "rgb(90,179,244)"
             ]
            ],
            "type": "histogram2d"
           }
          ],
          "histogram2dcontour": [
           {
            "colorbar": {
             "outlinewidth": 0,
             "tickcolor": "rgb(237,237,237)",
             "ticklen": 6,
             "ticks": "inside"
            },
            "colorscale": [
             [
              0,
              "rgb(20,44,66)"
             ],
             [
              1,
              "rgb(90,179,244)"
             ]
            ],
            "type": "histogram2dcontour"
           }
          ],
          "mesh3d": [
           {
            "colorbar": {
             "outlinewidth": 0,
             "tickcolor": "rgb(237,237,237)",
             "ticklen": 6,
             "ticks": "inside"
            },
            "type": "mesh3d"
           }
          ],
          "parcoords": [
           {
            "line": {
             "colorbar": {
              "outlinewidth": 0,
              "tickcolor": "rgb(237,237,237)",
              "ticklen": 6,
              "ticks": "inside"
             }
            },
            "type": "parcoords"
           }
          ],
          "pie": [
           {
            "automargin": true,
            "type": "pie"
           }
          ],
          "scatter": [
           {
            "fillpattern": {
             "fillmode": "overlay",
             "size": 10,
             "solidity": 0.2
            },
            "type": "scatter"
           }
          ],
          "scatter3d": [
           {
            "line": {
             "colorbar": {
              "outlinewidth": 0,
              "tickcolor": "rgb(237,237,237)",
              "ticklen": 6,
              "ticks": "inside"
             }
            },
            "marker": {
             "colorbar": {
              "outlinewidth": 0,
              "tickcolor": "rgb(237,237,237)",
              "ticklen": 6,
              "ticks": "inside"
             }
            },
            "type": "scatter3d"
           }
          ],
          "scattercarpet": [
           {
            "marker": {
             "colorbar": {
              "outlinewidth": 0,
              "tickcolor": "rgb(237,237,237)",
              "ticklen": 6,
              "ticks": "inside"
             }
            },
            "type": "scattercarpet"
           }
          ],
          "scattergeo": [
           {
            "marker": {
             "colorbar": {
              "outlinewidth": 0,
              "tickcolor": "rgb(237,237,237)",
              "ticklen": 6,
              "ticks": "inside"
             }
            },
            "type": "scattergeo"
           }
          ],
          "scattergl": [
           {
            "marker": {
             "colorbar": {
              "outlinewidth": 0,
              "tickcolor": "rgb(237,237,237)",
              "ticklen": 6,
              "ticks": "inside"
             }
            },
            "type": "scattergl"
           }
          ],
          "scattermap": [
           {
            "marker": {
             "colorbar": {
              "outlinewidth": 0,
              "tickcolor": "rgb(237,237,237)",
              "ticklen": 6,
              "ticks": "inside"
             }
            },
            "type": "scattermap"
           }
          ],
          "scattermapbox": [
           {
            "marker": {
             "colorbar": {
              "outlinewidth": 0,
              "tickcolor": "rgb(237,237,237)",
              "ticklen": 6,
              "ticks": "inside"
             }
            },
            "type": "scattermapbox"
           }
          ],
          "scatterpolar": [
           {
            "marker": {
             "colorbar": {
              "outlinewidth": 0,
              "tickcolor": "rgb(237,237,237)",
              "ticklen": 6,
              "ticks": "inside"
             }
            },
            "type": "scatterpolar"
           }
          ],
          "scatterpolargl": [
           {
            "marker": {
             "colorbar": {
              "outlinewidth": 0,
              "tickcolor": "rgb(237,237,237)",
              "ticklen": 6,
              "ticks": "inside"
             }
            },
            "type": "scatterpolargl"
           }
          ],
          "scatterternary": [
           {
            "marker": {
             "colorbar": {
              "outlinewidth": 0,
              "tickcolor": "rgb(237,237,237)",
              "ticklen": 6,
              "ticks": "inside"
             }
            },
            "type": "scatterternary"
           }
          ],
          "surface": [
           {
            "colorbar": {
             "outlinewidth": 0,
             "tickcolor": "rgb(237,237,237)",
             "ticklen": 6,
             "ticks": "inside"
            },
            "colorscale": [
             [
              0,
              "rgb(20,44,66)"
             ],
             [
              1,
              "rgb(90,179,244)"
             ]
            ],
            "type": "surface"
           }
          ],
          "table": [
           {
            "cells": {
             "fill": {
              "color": "rgb(237,237,237)"
             },
             "line": {
              "color": "white"
             }
            },
            "header": {
             "fill": {
              "color": "rgb(217,217,217)"
             },
             "line": {
              "color": "white"
             }
            },
            "type": "table"
           }
          ]
         },
         "layout": {
          "annotationdefaults": {
           "arrowhead": 0,
           "arrowwidth": 1
          },
          "autotypenumbers": "strict",
          "coloraxis": {
           "colorbar": {
            "outlinewidth": 0,
            "tickcolor": "rgb(237,237,237)",
            "ticklen": 6,
            "ticks": "inside"
           }
          },
          "colorscale": {
           "sequential": [
            [
             0,
             "rgb(20,44,66)"
            ],
            [
             1,
             "rgb(90,179,244)"
            ]
           ],
           "sequentialminus": [
            [
             0,
             "rgb(20,44,66)"
            ],
            [
             1,
             "rgb(90,179,244)"
            ]
           ]
          },
          "colorway": [
           "#F8766D",
           "#A3A500",
           "#00BF7D",
           "#00B0F6",
           "#E76BF3"
          ],
          "font": {
           "color": "rgb(51,51,51)"
          },
          "geo": {
           "bgcolor": "white",
           "lakecolor": "white",
           "landcolor": "rgb(237,237,237)",
           "showlakes": true,
           "showland": true,
           "subunitcolor": "white"
          },
          "hoverlabel": {
           "align": "left"
          },
          "hovermode": "closest",
          "paper_bgcolor": "white",
          "plot_bgcolor": "rgb(237,237,237)",
          "polar": {
           "angularaxis": {
            "gridcolor": "white",
            "linecolor": "white",
            "showgrid": true,
            "tickcolor": "rgb(51,51,51)",
            "ticks": "outside"
           },
           "bgcolor": "rgb(237,237,237)",
           "radialaxis": {
            "gridcolor": "white",
            "linecolor": "white",
            "showgrid": true,
            "tickcolor": "rgb(51,51,51)",
            "ticks": "outside"
           }
          },
          "scene": {
           "xaxis": {
            "backgroundcolor": "rgb(237,237,237)",
            "gridcolor": "white",
            "gridwidth": 2,
            "linecolor": "white",
            "showbackground": true,
            "showgrid": true,
            "tickcolor": "rgb(51,51,51)",
            "ticks": "outside",
            "zerolinecolor": "white"
           },
           "yaxis": {
            "backgroundcolor": "rgb(237,237,237)",
            "gridcolor": "white",
            "gridwidth": 2,
            "linecolor": "white",
            "showbackground": true,
            "showgrid": true,
            "tickcolor": "rgb(51,51,51)",
            "ticks": "outside",
            "zerolinecolor": "white"
           },
           "zaxis": {
            "backgroundcolor": "rgb(237,237,237)",
            "gridcolor": "white",
            "gridwidth": 2,
            "linecolor": "white",
            "showbackground": true,
            "showgrid": true,
            "tickcolor": "rgb(51,51,51)",
            "ticks": "outside",
            "zerolinecolor": "white"
           }
          },
          "shapedefaults": {
           "fillcolor": "black",
           "line": {
            "width": 0
           },
           "opacity": 0.3
          },
          "ternary": {
           "aaxis": {
            "gridcolor": "white",
            "linecolor": "white",
            "showgrid": true,
            "tickcolor": "rgb(51,51,51)",
            "ticks": "outside"
           },
           "baxis": {
            "gridcolor": "white",
            "linecolor": "white",
            "showgrid": true,
            "tickcolor": "rgb(51,51,51)",
            "ticks": "outside"
           },
           "bgcolor": "rgb(237,237,237)",
           "caxis": {
            "gridcolor": "white",
            "linecolor": "white",
            "showgrid": true,
            "tickcolor": "rgb(51,51,51)",
            "ticks": "outside"
           }
          },
          "xaxis": {
           "automargin": true,
           "gridcolor": "white",
           "linecolor": "white",
           "showgrid": true,
           "tickcolor": "rgb(51,51,51)",
           "ticks": "outside",
           "title": {
            "standoff": 15
           },
           "zerolinecolor": "white"
          },
          "yaxis": {
           "automargin": true,
           "gridcolor": "white",
           "linecolor": "white",
           "showgrid": true,
           "tickcolor": "rgb(51,51,51)",
           "ticks": "outside",
           "title": {
            "standoff": 15
           },
           "zerolinecolor": "white"
          }
         }
        },
        "title": {
         "text": "Regressione polinomiale sul numero di passeggeri"
        },
        "xaxis": {
         "title": {
          "text": "Date"
         }
        },
        "yaxis": {
         "title": {
          "text": "Numero di passeggeri"
         }
        }
       }
      }
     },
     "metadata": {},
     "output_type": "display_data"
    }
   ],
   "source": [
    "# carico il dataset\n",
    "df = pd.read_csv('data.csv')\n",
    "\n",
    "# converto in formato numerico\n",
    "df['date'] = pd.to_datetime(df['date'], format='%Y-%m')\n",
    "df['mese_numerico'] = (df['date'].dt.year - 1949) * 12 + (df['date'].dt.month - 1)\n",
    "df = df.dropna(subset=['passengers'])\n",
    "\n",
    "# regressione polinomiale di grado 2\n",
    "x = df['mese_numerico'].values\n",
    "y = df['passengers'].values\n",
    "\n",
    "coeffs = np.polyfit(x, y, deg=2)\n",
    "poly = np.poly1d(coeffs)\n",
    "y_pred = poly(x)\n",
    "\n",
    "# calcolo RMSE tra valori reali e predetti\n",
    "rmse = root_mean_squared_error(y, y_pred)\n",
    "print(f'RMSE = {rmse:.2f}')\n",
    "\n",
    "# plot\n",
    "fig = go.Figure()\n",
    "\n",
    "fig.add_trace(go.Scatter(\n",
    "    x=df['date'], \n",
    "    y=y, \n",
    "    mode='markers',\n",
    "    name='Dati reali', \n",
    "    marker=dict(color='green')\n",
    "))\n",
    "\n",
    "fig.add_trace(go.Scatter(\n",
    "    x=df['date'],\n",
    "    y=y_pred,\n",
    "    mode='lines',\n",
    "    name='Fit polinomiale',\n",
    "    line=dict(color='blue')\n",
    "))\n",
    "\n",
    "fig.update_layout(\n",
    "    title='Regressione polinomiale sul numero di passeggeri',\n",
    "    xaxis_title='Date',\n",
    "    yaxis_title='Numero di passeggeri',\n",
    "    template='ggplot2'\n",
    ")\n",
    "\n",
    "fig.show()"
   ]
  },
  {
   "cell_type": "markdown",
   "id": "640ee914",
   "metadata": {},
   "source": [
    "### Es2. \n",
    "Costruisci una web app con Dash che permette all’utente di scegliere il grado del polinomio per adattare un modello di regressione ai dati non lineari e vedere il risultato aggiornarsi dinamicamente.\n",
    "\n",
    "\n",
    "1. Genera 100 punti x tra -3 e 3.\n",
    "\n",
    "2. Calcola ad esempio y = x³ - x + rumore.\n",
    "\n",
    "3. Costruisci un'interfaccia Dash con:\n",
    "    - uno slider per scegliere il grado del polinomio (1–10),\n",
    "    - un grafico Plotly che mostra i dati e la curva stimata.\n",
    "\n",
    "4. Usa PolynomialFeatures + LinearRegression da scikit-learn per stimare la curva"
   ]
  },
  {
   "cell_type": "code",
   "execution_count": 3,
   "id": "02d7b7c5",
   "metadata": {},
   "outputs": [],
   "source": [
    "import dash\n",
    "from dash.dependencies import Input, Output\n",
    "from dash import dcc, html\n",
    "import numpy as np\n",
    "import plotly.graph_objects as go\n",
    "from sklearn.preprocessing import PolynomialFeatures\n",
    "from sklearn.linear_model import LinearRegression"
   ]
  },
  {
   "cell_type": "code",
   "execution_count": null,
   "id": "c8673341",
   "metadata": {},
   "outputs": [],
   "source": [
    "# genera 100 punti x tra -3 e 3\n",
    "def generate(n=100, noise_std=1.0, seed=0):\n",
    "    np.random.seed(seed)\n",
    "    x = np.linspace(-3,3,n)\n",
    "    y = x**3 - x + np.random.normal(0, noise_std, size=n)\n",
    "    return x,y\n",
    "\n",
    "x, y = generate()\n",
    "\n",
    "# creazione app\n",
    "app = dash.Dash(__name__)\n",
    "server = app.server\n",
    "\n",
    "app.layout = html.Div([\n",
    "    html.H1('Regressione polinomiale'),\n",
    "    \n",
    "    dcc.Slider(\n",
    "        id='degree-slider',\n",
    "        min=1,\n",
    "        max=10,\n",
    "        step=1,\n",
    "        value=3,\n",
    "        marks={i: str(i) for i in range(1,11)},\n",
    "        tooltip={'always_visible':False, 'placement':'bottom'}\n",
    "    ),\n",
    "\n",
    "    dcc.Graph(\n",
    "        id='poly-graph'\n",
    "    ),\n",
    "\n",
    "    html.Div(\n",
    "        id='output-degree',\n",
    "        style={'marginTop': 20, 'fontSize': 19}\n",
    "    ),\n",
    "\n",
    "],\n",
    "style={'widht':'80%', 'margin': 'auto'}\n",
    ")\n",
    "\n",
    "@app.callback(\n",
    "    [Output('poly-graph', 'figure'), Output('output-degree', 'children')],\n",
    "    [Input('degree-slider', 'value')]\n",
    ")\n",
    "\n",
    "def update_graph(degree):\n",
    "    poly = PolynomialFeatures(degree=degree, include_bias=True)\n",
    "    X_poly = poly.fit_transform(x.reshape(-1,1))\n",
    "\n",
    "    # regressione\n",
    "    lm = LinearRegression(fit_intercept=False)\n",
    "    lm.fit(X_poly, y)\n",
    "\n",
    "    # predizione\n",
    "    x_fit = np.linspace(x.min(), x.max(), 200)\n",
    "    X_fit_poly = poly.transform(x_fit.reshape(-1,1))\n",
    "    y_fit = lm.predict(X_fit_poly)\n",
    "\n",
    "    # creo figura\n",
    "    trace_data = go.Scatter(\n",
    "        x=x, \n",
    "        y=y, \n",
    "        mode='markers', \n",
    "        name='Dati'\n",
    "    )\n",
    "\n",
    "    trace_fit = go.Scatter(\n",
    "        x=x_fit,\n",
    "        y=y_fit,\n",
    "        mode='lines',\n",
    "        name=f'fit di grado {degree}'\n",
    "    )\n",
    "\n",
    "    fig = go.Figure(data=[trace_data, trace_fit])\n",
    "\n",
    "    fig.update_layout(\n",
    "        title=f'Regressione polinomiale di grado {degree}',\n",
    "        xaxis_title='X',\n",
    "        yaxis_title='Y',\n",
    "        template='ggplot2'\n",
    "    )\n",
    "\n",
    "    return fig, f'Degree: {degree}'\n",
    "\n",
    "if __name__ == '__main__':\n",
    "    app.run(debug=True)"
   ]
  }
 ],
 "metadata": {
  "kernelspec": {
   "display_name": "labPython",
   "language": "python",
   "name": "python3"
  },
  "language_info": {
   "codemirror_mode": {
    "name": "ipython",
    "version": 3
   },
   "file_extension": ".py",
   "mimetype": "text/x-python",
   "name": "python",
   "nbconvert_exporter": "python",
   "pygments_lexer": "ipython3",
   "version": "3.12.11"
  }
 },
 "nbformat": 4,
 "nbformat_minor": 5
}

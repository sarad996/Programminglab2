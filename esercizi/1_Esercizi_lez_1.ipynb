{
 "cells": [
  {
   "cell_type": "markdown",
   "metadata": {},
   "source": [
    "### **1. Trasformare cicli in list comprehension**\n",
    "\n",
    "Fai tre esempi di cicli producono una lista e poi riscrivi lo stesso codice usando la list comprehension"
   ]
  },
  {
   "cell_type": "code",
   "execution_count": 1,
   "metadata": {},
   "outputs": [
    {
     "name": "stdout",
     "output_type": "stream",
     "text": [
      "Senza list comprehension: [0, 1, 4, 9, 16, 25, 36, 49, 64, 81]\n",
      "List comprehension: [0, 1, 4, 9, 16, 25, 36, 49, 64, 81]\n"
     ]
    }
   ],
   "source": [
    "quadrati1=[]\n",
    "for i in range(10):\n",
    "    quadrati1.append(i ** 2)\n",
    "\n",
    "# list coprehension\n",
    "quadrati2=[i ** 2 for i in range(10)]\n",
    "\n",
    "print(f'Senza list comprehension: {quadrati1}')\n",
    "print(f'List comprehension: {quadrati2}')"
   ]
  },
  {
   "cell_type": "code",
   "execution_count": 2,
   "metadata": {},
   "outputs": [
    {
     "name": "stdout",
     "output_type": "stream",
     "text": [
      "Senza list comprehension: [5, 7, 9]\n",
      "List comprehension: [5, 7, 9]\n"
     ]
    }
   ],
   "source": [
    "a=[1,2,3]\n",
    "b=[4,5,6]\n",
    "\n",
    "somme1=[]\n",
    "for x,y in zip(a,b):\n",
    "    somme1.append(x+y)\n",
    "\n",
    "# list coprehension\n",
    "somme2=[x+y for x,y in zip(a,b)]\n",
    "\n",
    "print(f'Senza list comprehension: {somme1}')\n",
    "print(f'List comprehension: {somme2}')"
   ]
  },
  {
   "cell_type": "code",
   "execution_count": 3,
   "metadata": {},
   "outputs": [
    {
     "name": "stdout",
     "output_type": "stream",
     "text": [
      "Senza list comprehension: ['gatto', 'giraffa']\n",
      "List comprehension: ['gatto', 'giraffa']\n"
     ]
    }
   ],
   "source": [
    "parole=[\"cane\", \"gatto\", \"topo\", \"giraffa\"]\n",
    "lunghe1=[]\n",
    "for parola in parole:\n",
    "    if len(parola)>4:\n",
    "        lunghe1.append(parola)\n",
    "\n",
    "# list comprehesion\n",
    "lunghe2=[parola for parola in parole if len(parola)>4]\n",
    "\n",
    "print(f'Senza list comprehension: {lunghe1}')\n",
    "print(f'List comprehension: {lunghe2}')"
   ]
  },
  {
   "cell_type": "markdown",
   "metadata": {},
   "source": [
    "### **2. Vettore di Numeri Primi**\n",
    "\n",
    "1. **Crea un vettore** contenente tutti i numeri primi compresi tra **0 e 10**  \n",
    "   _(Puoi scriverli direttamente nell'array)._\n",
    "\n",
    "2. **Conta quanti numeri ci sono nel vettore** utilizzando la funzione `len()`.  **Ottieni lo stesso numero** accedendo all'attributo `.size` del vettore.\n",
    "\n",
    "3. Quale pensi sia il tipo di dato (`dtype`) del vettore?  Prova a rispondere senza eseguire il codice e Verifica la tua risposta accedendo all'attributo `.dtype` del vettore\n",
    "\n",
    "4. Scrivi l'array usando una list comprehension che controlla che i numeri siano primi. "
   ]
  },
  {
   "cell_type": "code",
   "execution_count": null,
   "metadata": {},
   "outputs": [
    {
     "name": "stdout",
     "output_type": "stream",
     "text": [
      "Array di numeri primi:  [2 3 5 7]\n",
      "Lunghezza del vettore: 4 / 4\n",
      "Tipo del vettore:  int64\n",
      "List comprehension:  [2, 3, 5, 7]\n"
     ]
    }
   ],
   "source": [
    "import numpy as np\n",
    "\n",
    "# 1. vettore con numeri primi tra 0 e 10\n",
    "primi=[]\n",
    "for i in range(2,11):\n",
    "    is_prime=True\n",
    "    for j in range(2,i):\n",
    "        if i%j == 0:\n",
    "            is_prime=False\n",
    "            break\n",
    "    if is_prime:\n",
    "        primi.append(i)\n",
    "\n",
    "primi=np.array(primi)\n",
    "print('Array di numeri primi: ',primi)\n",
    "\n",
    "# 2. lunghezza del vettore con len e size\n",
    "len_primi=len(primi)\n",
    "size_primi=primi.size\n",
    "print(f'Lunghezza del vettore: {len_primi} / {size_primi}')\n",
    "\n",
    "# 3. tipologia del vettore con dtype\n",
    "print('Tipo del vettore: ',primi.dtype)\n",
    "\n",
    "# 4. list comprehesion che controlla se sono primi\n",
    "primi_com=[i for i in range(2,11) if all(i%j!=0 for j in range(2,i))]\n",
    "print('List comprehension: ', primi_com)"
   ]
  },
  {
   "cell_type": "markdown",
   "metadata": {},
   "source": [
    "### **3.  Operazioni su array**\n",
    "Crea un array **a**, 1D (senza digitarlo esplicitamente), e genera due nuovi array **b**, contenente una sottostringa a piacere e **c** che è il reverse dell'array **a** (esempio [1,2,3] diventa [3,2,1]) .  Dividi l'array **a** per l'array **c**. Fai la stessa cosa per una lista."
   ]
  },
  {
   "cell_type": "code",
   "execution_count": 16,
   "metadata": {},
   "outputs": [
    {
     "name": "stdout",
     "output_type": "stream",
     "text": [
      "Array A:  [1 2 3]\n",
      "Array B:  prova\n",
      "Array C:  [3 2 1]\n",
      "Array D:  [0.33333333 1.         3.        ]\n",
      "\n",
      "Lista A:  [1, 2, 3]\n",
      "Lista B:  prova\n",
      "Lista C:  [3, 2, 1]\n"
     ]
    }
   ],
   "source": [
    "a=np.array([1,2,3])\n",
    "b=np.array(\"prova\")\n",
    "c=np.flip(a)\n",
    "\n",
    "d=a/c\n",
    "print('Array A: ', a)\n",
    "print('Array B: ', b)\n",
    "print('Array C: ', c)\n",
    "print('Array D: ', d)\n",
    "\n",
    "\n",
    "a_l=[1,2,3]\n",
    "b_l=\"prova\"\n",
    "c_l=[3,2,1]\n",
    "print('\\nLista A: ', a_l)\n",
    "print('Lista B: ', b_l)\n",
    "print('Lista C: ', c_l)\n",
    "#d_l=a_l/c_l\n",
    "#TypeError: unsupported operand type(s) for /: 'list' and 'list'"
   ]
  }
 ],
 "metadata": {
  "kernelspec": {
   "display_name": "labPython",
   "language": "python",
   "name": "python3"
  },
  "language_info": {
   "codemirror_mode": {
    "name": "ipython",
    "version": 3
   },
   "file_extension": ".py",
   "mimetype": "text/x-python",
   "name": "python",
   "nbconvert_exporter": "python",
   "pygments_lexer": "ipython3",
   "version": "3.12.11"
  }
 },
 "nbformat": 4,
 "nbformat_minor": 2
}

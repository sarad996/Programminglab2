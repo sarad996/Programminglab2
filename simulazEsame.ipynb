{
 "cells": [
  {
   "cell_type": "markdown",
   "id": "9fe951e1",
   "metadata": {},
   "source": [
    "# Simulazione d'esame Laboratorio di Programmazione 2"
   ]
  },
  {
   "cell_type": "markdown",
   "id": "81166829",
   "metadata": {},
   "source": [
    "## Esercizio 1\n",
    "\n",
    "1. Crea un vettore NumPy con i seguenti **canoni mensili d'affitto** (in euro) per 4 appartamenti: **720, 980, 650, 1200**\n",
    "\n",
    "2. Calcola la **spesa totale mensile** sostenuta dagli inquilini.\n",
    "\n",
    "3. Il proprietario dell'appartamento da **1200 €** decide di **aumentare l’affitto del 12%**.\n",
    "    - Modifica il vettore per applicare l’aumento.\n",
    "    - L’importo aggiornato deve essere esattamente **1344,00 €**, controlla se appare **esattamente** nel tuo array.\n",
    "\n",
    "\n",
    "4. L'inquilino dell'appartamento da **650 €** ottiene uno **sconto del 10%**.\n",
    "    - Applica la modifica.\n",
    "\n",
    "5. Gli altri due appartamenti (**720 € e 980 €**) subiscono un **aumento del 5%**.\n",
    "    - Aggiorna il vettore di conseguenza.\n",
    "\n",
    "7. Calcola la **nuova spesa totale mensile** dopo tutti i cambiamenti.\n",
    "\n",
    "8. Infine: quanto ha influito **l’aumento dell’affitto più alto** sulla spesa complessiva?\n",
    "\n",
    "    (Suggerimento: confronta la spesa totale **prima di qualsiasi modifica** e **dopo il solo aumento del canone a 1200 €**.)\n"
   ]
  },
  {
   "cell_type": "code",
   "execution_count": 1,
   "id": "83261aa5",
   "metadata": {},
   "outputs": [],
   "source": [
    "import numpy as np"
   ]
  },
  {
   "cell_type": "code",
   "execution_count": null,
   "id": "c94c2d6f",
   "metadata": {},
   "outputs": [
    {
     "name": "stdout",
     "output_type": "stream",
     "text": [
      "Canoni mensili: [ 720.  980.  650. 1200.]\n",
      "Spesa totale mensile: 3550.0\n",
      "Canoni mensili con aumento 12%: [ 720.  980.  650. 1344.]\n",
      "Canoni mensili con sconto 10%: [ 720.  980.  585. 1344.]\n",
      "Canoni mensili con aumento 5%: [ 756. 1029.  585. 1344.]\n",
      "Nuova spesa totale mensile: 3714.0\n",
      "\n",
      "Spesa prima degli aumenti: 3550.0\n",
      "Spesa dopo aumento del 12%: 3694.0\n",
      "L'aumento ha influito per 144.0 euro\n"
     ]
    }
   ],
   "source": [
    "# 1. creare un vettore numpy con canoni mensili\n",
    "canoni = np.array([720, 980, 650, 1200], dtype=np.float64)\n",
    "print(f'Canoni mensili: {canoni}')\n",
    "\n",
    "# 2. spesa totale mensile\n",
    "tot_spesa = np.sum(canoni)\n",
    "print(f'Spesa totale mensile: {tot_spesa}')\n",
    "\n",
    "# 3. aumento del 12% su 1200\n",
    "canoni[3] = canoni[3] * 1.12\n",
    "print(f'Canoni mensili con aumento 12%: {canoni}')\n",
    "tot_spesa_post = np.sum(canoni)\n",
    "\n",
    "# 4. sconto del 10% su 650\n",
    "canoni[2] = canoni[2]-(canoni[2] * 0.1)\n",
    "print(f'Canoni mensili con sconto 10%: {canoni}')\n",
    "\n",
    "# 5. aumento del 5% su 720 e 980\n",
    "canoni[0] = canoni[0] * 1.05\n",
    "canoni[1] = canoni[1] * 1.05\n",
    "print(f'Canoni mensili con aumento 5%: {canoni}')\n",
    "\n",
    "# 6. nuova spesa totale mensile\n",
    "tot_spesa_new = np.sum(canoni)\n",
    "print(f'Nuova spesa totale mensile: {tot_spesa_new}')\n",
    "\n",
    "# 7. confronto spese mensili post aumento canone 1.200\n",
    "print(f'\\nSpesa prima degli aumenti: {tot_spesa}\\nSpesa dopo aumento del 12%: {tot_spesa_post}')\n",
    "diff_aumento = tot_spesa_post - tot_spesa\n",
    "print(f'L\\'aumento ha influito per {diff_aumento} euro')\n"
   ]
  },
  {
   "cell_type": "markdown",
   "id": "b03ca742",
   "metadata": {},
   "source": [
    "## Esercizio 2\n",
    "\n",
    "Consideriamo un semplice processo di random walk (cammino aleatorio) in una dimensione:\n",
    "a ogni passo temporale, un camminatore si sposta a destra (+1) o a sinistra (-1) con uguale probabilità. Supponiamo che il camminatore parta sempre da x=0.\n",
    "\n",
    "1. Scrivi una funzione che simula il cammino per n passi ed N camminatori e restituisce due array. Il primo rappresenta la media della posizione ad ogni passo degli N camminatori ed il secondo la deviazione standard della posizione ad ogni passo degli N camminatori.\n",
    "\n",
    "2. Fai prima il plot della media delle posizione degli N camminatori per 100 passi \n",
    "\n",
    "3. Fai il plot con anche la devizione standard.  La deviazione standard diminuisce all'aumentare del campione? Che andamento ha la deviazione standard rispeto l tempo/passi?"
   ]
  },
  {
   "cell_type": "markdown",
   "id": "f951cbf4",
   "metadata": {},
   "source": [
    "## Esercizio 3\n",
    "\n",
    "Genera un array `a` di dimensioni **5 x 9** contenente numeri da una distribuzione gaussiana con media 0 e dev standard 1.  \n",
    "Per ogni riga, seleziona il numero **più vicino a 0.1**.\n",
    "Imposta il seed per la riproducibilità `np.random.seed(42)`\n",
    "\n",
    " *Suggerimento*: per ottenere `a[i, j]`, l'array `i` deve contenere gli **indici di riga** corrispondenti agli elementi in `j`.\n"
   ]
  },
  {
   "cell_type": "code",
   "execution_count": 37,
   "id": "e96dcd74",
   "metadata": {},
   "outputs": [
    {
     "name": "stdout",
     "output_type": "stream",
     "text": [
      "Array generato: \n",
      "[[ 0.49671415 -0.1382643   0.64768854  1.52302986 -0.23415337 -0.23413696\n",
      "   1.57921282  0.76743473 -0.46947439]\n",
      " [ 0.54256004 -0.46341769 -0.46572975  0.24196227 -1.91328024 -1.72491783\n",
      "  -0.56228753 -1.01283112  0.31424733]\n",
      " [-0.90802408 -1.4123037   1.46564877 -0.2257763   0.0675282  -1.42474819\n",
      "  -0.54438272  0.11092259 -1.15099358]\n",
      " [ 0.37569802 -0.60063869 -0.29169375 -0.60170661  1.85227818 -0.01349722\n",
      "  -1.05771093  0.82254491 -1.22084365]\n",
      " [ 0.2088636  -1.95967012 -1.32818605  0.19686124  0.73846658  0.17136828\n",
      "  -0.11564828 -0.3011037  -1.47852199]]\n",
      "\n",
      "Valori più vicini a 0.1 per ogni riga: \n",
      "[-0.1382643   0.24196227  0.11092259 -0.01349722  0.17136828]\n"
     ]
    }
   ],
   "source": [
    "np.random.seed(42)\n",
    "\n",
    "# genero array 5x9 con numeri da una gaussiana\n",
    "a = np.random.normal(loc=0, scale=1, size=(5,9))\n",
    "print(f'Array generato: \\n{a}')\n",
    "\n",
    "# trovo il valore più vicino a 0.1 in ogni riga\n",
    "closest = np.array([row[np.argmin(np.abs(row-0.1))] for row in a])\n",
    "print(f'\\nValori più vicini a 0.1 per ogni riga: \\n{closest}')"
   ]
  },
  {
   "cell_type": "markdown",
   "id": "1854b021",
   "metadata": {},
   "source": [
    "## Esercizio 4\n",
    "\n",
    "Utilizza il dataset `titanic`, disponibile all'url = \"https://raw.githubusercontent.com/datasciencedojo/datasets/master/titanic.csv\"\n",
    "\n",
    "Esegui un’analisi esplorativa sui dati dei passeggeri, focalizzandoti su tariffe, età e componenti familiari.\n",
    "\n",
    "1. **Visualizza i primi 10 passeggeri ordinati per tariffa pagata** (`Fare`), dal più alto al più basso.\n",
    "\n",
    "2. **Calcola la media** di:\n",
    "   - `Age` (età)\n",
    "   - `Fare` (tariffa)\n",
    "   - `SibSp` (numero di fratelli/coniugi a bordo)\n",
    "\n",
    "3. **Crea una nuova colonna** chiamata `Family_index`, definita come:\n",
    "\n",
    "   $$\n",
    "   \\texttt{family\\_index} = \\frac{\\texttt{sibsp} + \\texttt{parch}}{\\texttt{fare}}\n",
    "   $$\n",
    "\n",
    "   *(Indicatore del “peso familiare” per unità di spesa – attenzione a eventuali divisioni per zero!)*\n",
    "\n",
    "4. Trova il **passeggero con il valore massimo** di `Family_index`.\n",
    "\n",
    "5. **Filtra solo i passeggeri** che hanno pagato **più di 100** di tariffa (`Fare > 100`).\n",
    "\n",
    "6. **Crea un grafico a barre** con i 10 passeggeri che hanno pagato di più (`Fare`).\n",
    "\n",
    "7. **Crea un grafico a linee** dell’età (`Age`), ordinando i passeggeri per tariffa (`Fare`) crescente.\n",
    "\n",
    "\n",
    "\n",
    "💡 *Suggerimenti*:\n",
    "- Ricordati di gestire eventuali valori mancanti in `Age` o `Fare` prima di fare operazioni.\n"
   ]
  },
  {
   "cell_type": "markdown",
   "id": "dc6f5b0c",
   "metadata": {},
   "source": [
    "## Esercizio 5\n",
    "\n",
    "Usa il dataset `penguins`, disponibile tramite `seaborn.load_dataset(\"penguins\")`.\n",
    "\n",
    "\n",
    "1. Quante righe e colonne ha il dataset?\n",
    "\n",
    "2. Controlla quanti valori mancanti ci sono per colonna.\n",
    "\n",
    "3. Riempi i valori mancanti nella colonna `sex` con il valore più frequente.\n",
    "\n",
    "4. Rimuovi le righe in cui il valore `body_mass_g` è mancante.\n",
    "\n",
    "5. Controlla se ci sono righe duplicate.\n",
    "\n",
    "6. Calcola la **massa corporea media** (`body_mass_g`) per ogni specie (`species`).\n",
    "  Se ci sono valori mancanti in `body_mass_g`, riempili con la media della specie.\n",
    "\n",
    "7. Visualizza la **distribuzione della massa corporea** (`body_mass_g`) per specie.\n",
    "\n",
    "8.  Visualizza la **distribuzione della massa corporea** per specie, **dividendo per sesso** (`sex`) e mostrandoli a confronto.\n",
    "\n",
    "\n",
    "💡 Suggerimento: usa `seaborn.violinplot()`, `boxplot()` o `kdeplot()` con `hue='sex'`.\n"
   ]
  },
  {
   "cell_type": "markdown",
   "id": "258bfdca",
   "metadata": {},
   "source": [
    "## Esercizio 6\n",
    "\n",
    "Hai due array NumPy generati come segue:\n",
    "\n",
    "`x = np.linspace(0, 10, 100)`  \n",
    "`y = 3 * x + 2 + np.random.normal(0, 1, 100)`\n",
    "\n",
    "Scrivi una funzione `fit_line(x, y)` che:\n",
    "\n",
    "- usa `scipy.optimize.curve_fit` per eseguire un **fitting lineare** del tipo `y = a * x + b`;  \n",
    "- restituisce una tupla contenente:\n",
    "  - i **parametri ottimizzati** `a` e `b`;  \n",
    "  - una **stringa** che descrive la retta trovata, ad esempio: `\"y = 3.02 * x + 1.95\"`.\n",
    "\n",
    "\n",
    "Esempio di output atteso:   (3.02, 1.95, \"y = 3.02 * x + 1.95\")\n",
    "\n",
    "Fai un esempio di utilizzo dove poi plotti i dati e la curva ottenuta.\n"
   ]
  },
  {
   "cell_type": "code",
   "execution_count": null,
   "id": "bd5fe7c7",
   "metadata": {},
   "outputs": [],
   "source": []
  }
 ],
 "metadata": {
  "kernelspec": {
   "display_name": "labPython",
   "language": "python",
   "name": "python3"
  },
  "language_info": {
   "codemirror_mode": {
    "name": "ipython",
    "version": 3
   },
   "file_extension": ".py",
   "mimetype": "text/x-python",
   "name": "python",
   "nbconvert_exporter": "python",
   "pygments_lexer": "ipython3",
   "version": "3.12.11"
  }
 },
 "nbformat": 4,
 "nbformat_minor": 5
}
